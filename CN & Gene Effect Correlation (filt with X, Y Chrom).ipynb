{
 "cells": [
  {
   "cell_type": "code",
   "execution_count": 1,
   "metadata": {},
   "outputs": [],
   "source": [
    "import pandas as pd\n",
    "import numpy as np"
   ]
  },
  {
   "cell_type": "code",
   "execution_count": 2,
   "metadata": {},
   "outputs": [],
   "source": [
    "copy_number = pd.read_csv('OmicsCNGene.csv', index_col=0)\n",
    "gene_effect = pd.read_csv('CRISPRGeneEffect.csv', index_col=0)"
   ]
  },
  {
   "cell_type": "code",
   "execution_count": 7,
   "metadata": {},
   "outputs": [
    {
     "name": "stdout",
     "output_type": "stream",
     "text": [
      "Copy Number File....\n",
      "\n",
      "Gene Count : 24383\n",
      "Cell Line Count : 1788\n"
     ]
    }
   ],
   "source": [
    "print('Copy Number File....\\n')\n",
    "print(f'Gene Count : {copy_number.shape[1]}')\n",
    "print(f'Cell Line Count : {copy_number.shape[0]}')"
   ]
  },
  {
   "cell_type": "code",
   "execution_count": 6,
   "metadata": {},
   "outputs": [
    {
     "name": "stdout",
     "output_type": "stream",
     "text": [
      "Nan Value : 1788\n"
     ]
    }
   ],
   "source": [
    "# Check for Nan value\n",
    "print(f'Nan Value : {copy_number.isna().value_counts().sum()}')"
   ]
  },
  {
   "cell_type": "code",
   "execution_count": 8,
   "metadata": {},
   "outputs": [
    {
     "name": "stdout",
     "output_type": "stream",
     "text": [
      "CRISPR Gene Effect File....\n",
      "\n",
      "Gene Count : 18443\n",
      "Cell Line Count : 1150\n"
     ]
    }
   ],
   "source": [
    "print('CRISPR Gene Effect File....\\n')\n",
    "print(f'Gene Count : {gene_effect.shape[1]}')\n",
    "print(f'Cell Line Count : {gene_effect.shape[0]}')"
   ]
  },
  {
   "cell_type": "code",
   "execution_count": 9,
   "metadata": {},
   "outputs": [
    {
     "name": "stdout",
     "output_type": "stream",
     "text": [
      "Nan Value : 1150\n"
     ]
    }
   ],
   "source": [
    "# Check for Nan value\n",
    "print(f'Nan Value : {gene_effect.isna().value_counts().sum()}')"
   ]
  },
  {
   "cell_type": "markdown",
   "metadata": {},
   "source": [
    "# Filter Out X, Y Related Gene\n",
    "## Data Source:  https://www.gsea-msigdb.org/gsea/msigdb/index.jsp (C1- X, Y)"
   ]
  },
  {
   "cell_type": "code",
   "execution_count": 20,
   "metadata": {},
   "outputs": [],
   "source": [
    "# List of X, Y Gene\n",
    "import json\n",
    "import os \n",
    "\n",
    "def load_file(directory):\n",
    "    '''\n",
    "    Get File name\n",
    "\n",
    "    Return:\n",
    "    json file list\n",
    "    '''\n",
    "    json_file = [os.path.join(directory, file) for file in os.listdir(directory) if file.endswith('.json')]\n",
    "\n",
    "    return json_file\n",
    "\n",
    "def get_gene_list(file_names):\n",
    "    '''\n",
    "    Get Target Gene List\n",
    "\n",
    "    Return:\n",
    "    Gene List\n",
    "    '''\n",
    "    gene_list = []\n",
    "    for idx, name in enumerate(file_names):\n",
    "        with open(name, 'r') as file:\n",
    "            data = json.load(file)\n",
    "            top_key = list(data.keys())[0]\n",
    "            print(f'Process Number:{idx+1}')\n",
    "            print(f'Processing File:{top_key}\\n')\n",
    "            gene_symbols = data[top_key]['geneSymbols']\n",
    "            print(f'Gene Symbol Count:{len(gene_symbols)}')\n",
    "            print(f'---------------------------------------\\n')\n",
    "\n",
    "            if isinstance(gene_symbols, list):\n",
    "                gene_list.extend(gene_symbols)\n",
    "            else:\n",
    "                gene_list.append(gene_symbols)\n",
    "\n",
    "    return gene_list\n"
   ]
  },
  {
   "cell_type": "code",
   "execution_count": 21,
   "metadata": {},
   "outputs": [
    {
     "name": "stdout",
     "output_type": "stream",
     "text": [
      "Process Number:1\n",
      "Processing File:chrXp11\n",
      "\n",
      "Gene Symbol Count:377\n",
      "---------------------------------------\n",
      "\n",
      "Process Number:2\n",
      "Processing File:chrXp21\n",
      "\n",
      "Gene Symbol Count:84\n",
      "---------------------------------------\n",
      "\n",
      "Process Number:3\n",
      "Processing File:chrXp22\n",
      "\n",
      "Gene Symbol Count:250\n",
      "---------------------------------------\n",
      "\n",
      "Process Number:4\n",
      "Processing File:chrXq11\n",
      "\n",
      "Gene Symbol Count:30\n",
      "---------------------------------------\n",
      "\n",
      "Process Number:5\n",
      "Processing File:chrXq12\n",
      "\n",
      "Gene Symbol Count:26\n",
      "---------------------------------------\n",
      "\n",
      "Process Number:6\n",
      "Processing File:chrXq13\n",
      "\n",
      "Gene Symbol Count:165\n",
      "---------------------------------------\n",
      "\n",
      "Process Number:7\n",
      "Processing File:chrXq21\n",
      "\n",
      "Gene Symbol Count:143\n",
      "---------------------------------------\n",
      "\n",
      "Process Number:8\n",
      "Processing File:chrXq22\n",
      "\n",
      "Gene Symbol Count:172\n",
      "---------------------------------------\n",
      "\n",
      "Process Number:9\n",
      "Processing File:chrXq23\n",
      "\n",
      "Gene Symbol Count:89\n",
      "---------------------------------------\n",
      "\n",
      "Process Number:10\n",
      "Processing File:chrXq24\n",
      "\n",
      "Gene Symbol Count:81\n",
      "---------------------------------------\n",
      "\n",
      "Process Number:11\n",
      "Processing File:chrXq25\n",
      "\n",
      "Gene Symbol Count:48\n",
      "---------------------------------------\n",
      "\n",
      "Process Number:12\n",
      "Processing File:chrXq26\n",
      "\n",
      "Gene Symbol Count:171\n",
      "---------------------------------------\n",
      "\n",
      "Process Number:13\n",
      "Processing File:chrXq27\n",
      "\n",
      "Gene Symbol Count:91\n",
      "---------------------------------------\n",
      "\n",
      "Process Number:14\n",
      "Processing File:chrXq28\n",
      "\n",
      "Gene Symbol Count:213\n",
      "---------------------------------------\n",
      "\n",
      "Process Number:1\n",
      "Processing File:chrYp11\n",
      "\n",
      "Gene Symbol Count:150\n",
      "---------------------------------------\n",
      "\n",
      "Process Number:2\n",
      "Processing File:chrYq11\n",
      "\n",
      "Gene Symbol Count:311\n",
      "---------------------------------------\n",
      "\n",
      "Process Number:3\n",
      "Processing File:chrYq12\n",
      "\n",
      "Gene Symbol Count:12\n",
      "---------------------------------------\n",
      "\n"
     ]
    }
   ],
   "source": [
    "# Load X chrom gene symbol\n",
    "directory = 'X_Chrom'\n",
    "file_names = load_file(directory)\n",
    "\n",
    "x_gene_list = get_gene_list(file_names)\n",
    "\n",
    "# Load Y Chrom gene symbol\n",
    "directory = 'Y_Chrom'\n",
    "file_names = load_file(directory)\n",
    "\n",
    "y_gene_list = get_gene_list(file_names)"
   ]
  },
  {
   "cell_type": "code",
   "execution_count": 22,
   "metadata": {},
   "outputs": [
    {
     "name": "stdout",
     "output_type": "stream",
     "text": [
      "X Chrom Gene Symbol Count:\n",
      "1940\n",
      "\n",
      "Y Chrom Gene Symbol Count:\n",
      "473\n"
     ]
    }
   ],
   "source": [
    "# Check Count of X, Y Gene Symbol\n",
    "print('X Chrom Gene Symbol Count:')\n",
    "print(len(x_gene_list))\n",
    "print('\\nY Chrom Gene Symbol Count:')\n",
    "print(len(y_gene_list))"
   ]
  },
  {
   "cell_type": "code",
   "execution_count": 23,
   "metadata": {},
   "outputs": [],
   "source": [
    "# Append two gene symbol\n",
    "target_gene_list = x_gene_list + y_gene_list"
   ]
  },
  {
   "cell_type": "code",
   "execution_count": 24,
   "metadata": {},
   "outputs": [],
   "source": [
    "def filt_col(data, gene_list):\n",
    "    '''\n",
    "    Data Filteration without target list\n",
    "\n",
    "    Return:\n",
    "    Filtered DataFrame\n",
    "    '''\n",
    "    columns_without_parentheses = [col.split(' (')[0] for col in data.columns]\n",
    "\n",
    "    filtered_columns = [\n",
    "        col for col, col_without_paren in zip(data.columns, columns_without_parentheses) \n",
    "        if col_without_paren not in gene_list\n",
    "    ]\n",
    "\n",
    "    filt_df = data[filtered_columns]\n",
    "\n",
    "    return filt_df"
   ]
  },
  {
   "cell_type": "code",
   "execution_count": 25,
   "metadata": {},
   "outputs": [],
   "source": [
    "filt_copy_number = filt_col(copy_number, target_gene_list)\n",
    "filt_gene_effect = filt_col(gene_effect, target_gene_list)"
   ]
  },
  {
   "cell_type": "code",
   "execution_count": 26,
   "metadata": {},
   "outputs": [
    {
     "name": "stdout",
     "output_type": "stream",
     "text": [
      "After Filteration...\n",
      "\n",
      "Copy Number : 24383 ---->  23440\n",
      "Gene Effect : 18443 ---->  17707\n"
     ]
    }
   ],
   "source": [
    "print(f'After Filteration...\\n')\n",
    "print(f'Copy Number : {copy_number.shape[1]} ---->  {filt_copy_number.shape[1]}')\n",
    "print(f'Gene Effect : {gene_effect.shape[1]} ---->  {filt_gene_effect.shape[1]}')"
   ]
  },
  {
   "cell_type": "code",
   "execution_count": 27,
   "metadata": {},
   "outputs": [
    {
     "name": "stdout",
     "output_type": "stream",
     "text": [
      "Intersected Cell Line(Count): 1150\n"
     ]
    }
   ],
   "source": [
    "common_index = filt_copy_number.index.intersection(filt_gene_effect.index)\n",
    "\n",
    "print(f'Intersected Cell Line(Count): {len(common_index)}')\n",
    "copy_number = filt_copy_number.loc[common_index]\n",
    "gene_effect = filt_gene_effect.loc[common_index]"
   ]
  },
  {
   "cell_type": "code",
   "execution_count": 28,
   "metadata": {},
   "outputs": [
    {
     "data": {
      "text/html": [
       "<div>\n",
       "<style scoped>\n",
       "    .dataframe tbody tr th:only-of-type {\n",
       "        vertical-align: middle;\n",
       "    }\n",
       "\n",
       "    .dataframe tbody tr th {\n",
       "        vertical-align: top;\n",
       "    }\n",
       "\n",
       "    .dataframe thead th {\n",
       "        text-align: right;\n",
       "    }\n",
       "</style>\n",
       "<table border=\"1\" class=\"dataframe\">\n",
       "  <thead>\n",
       "    <tr style=\"text-align: right;\">\n",
       "      <th></th>\n",
       "      <th>Gene</th>\n",
       "      <th>Count</th>\n",
       "    </tr>\n",
       "  </thead>\n",
       "  <tbody>\n",
       "    <tr>\n",
       "      <th>0</th>\n",
       "      <td>FAM87B (400728)</td>\n",
       "      <td>32</td>\n",
       "    </tr>\n",
       "    <tr>\n",
       "      <th>1</th>\n",
       "      <td>LINC01128 (643837)</td>\n",
       "      <td>32</td>\n",
       "    </tr>\n",
       "    <tr>\n",
       "      <th>2</th>\n",
       "      <td>AL669831.7 (107984850)</td>\n",
       "      <td>32</td>\n",
       "    </tr>\n",
       "    <tr>\n",
       "      <th>3</th>\n",
       "      <td>FAM41C (284593)</td>\n",
       "      <td>33</td>\n",
       "    </tr>\n",
       "    <tr>\n",
       "      <th>4</th>\n",
       "      <td>LINC02593 (100130417)</td>\n",
       "      <td>31</td>\n",
       "    </tr>\n",
       "    <tr>\n",
       "      <th>...</th>\n",
       "      <td>...</td>\n",
       "      <td>...</td>\n",
       "    </tr>\n",
       "    <tr>\n",
       "      <th>23435</th>\n",
       "      <td>BX546450.1 (105377213)</td>\n",
       "      <td>416</td>\n",
       "    </tr>\n",
       "    <tr>\n",
       "      <th>23436</th>\n",
       "      <td>AC236972.3 (105373373)</td>\n",
       "      <td>405</td>\n",
       "    </tr>\n",
       "    <tr>\n",
       "      <th>23437</th>\n",
       "      <td>AF274858.1 (105373383)</td>\n",
       "      <td>407</td>\n",
       "    </tr>\n",
       "    <tr>\n",
       "      <th>23438</th>\n",
       "      <td>TAZ (6901)</td>\n",
       "      <td>402</td>\n",
       "    </tr>\n",
       "    <tr>\n",
       "      <th>23439</th>\n",
       "      <td>AC010889.2 (105377224)</td>\n",
       "      <td>1092</td>\n",
       "    </tr>\n",
       "  </tbody>\n",
       "</table>\n",
       "<p>23440 rows × 2 columns</p>\n",
       "</div>"
      ],
      "text/plain": [
       "                         Gene  Count\n",
       "0             FAM87B (400728)     32\n",
       "1          LINC01128 (643837)     32\n",
       "2      AL669831.7 (107984850)     32\n",
       "3             FAM41C (284593)     33\n",
       "4       LINC02593 (100130417)     31\n",
       "...                       ...    ...\n",
       "23435  BX546450.1 (105377213)    416\n",
       "23436  AC236972.3 (105373373)    405\n",
       "23437  AF274858.1 (105373383)    407\n",
       "23438              TAZ (6901)    402\n",
       "23439  AC010889.2 (105377224)   1092\n",
       "\n",
       "[23440 rows x 2 columns]"
      ]
     },
     "execution_count": 28,
     "metadata": {},
     "output_type": "execute_result"
    }
   ],
   "source": [
    "column_counts = []\n",
    "\n",
    "\n",
    "for column in filt_copy_number.columns:\n",
    "    #q1 = copy_number[column].quantile(0.25)\n",
    "    count = ((filt_copy_number[column] >= 0) & (filt_copy_number[column] <= 0.5)).sum() \n",
    "    column_counts.append({'Gene': column, 'Count': count})\n",
    "\n",
    "\n",
    "column_count_df = pd.DataFrame(column_counts)\n",
    "column_count_df"
   ]
  },
  {
   "cell_type": "code",
   "execution_count": 29,
   "metadata": {},
   "outputs": [],
   "source": [
    "# Sorted by Count \n",
    "column_count_df.sort_values(by= 'Count', ascending=False, inplace=True)"
   ]
  },
  {
   "cell_type": "code",
   "execution_count": 33,
   "metadata": {},
   "outputs": [
    {
     "data": {
      "image/png": "[encoded data removed]",
      "text/plain": [
       "<Figure size 1200x800 with 1 Axes>"
      ]
     },
     "metadata": {},
     "output_type": "display_data"
    }
   ],
   "source": [
    "import matplotlib.pyplot as plt\n",
    "\n",
    "plt.figure(figsize=(12, 8))\n",
    "\n",
    "counts, bins, patches = plt.hist(column_count_df['Count'], bins=30, edgecolor='black')\n",
    "\n",
    "\n",
    "for count, bin_left, bin_right in zip(counts, bins[:-1], bins[1:]):\n",
    "    x = (bin_left + bin_right) / 2  \n",
    "    y = count  \n",
    "    plt.text(x, y, f'{int(count)}', ha='center', va='bottom')  \n",
    "\n",
    "\n",
    "plt.xlabel('Cell Line (Count)')\n",
    "plt.ylabel('Frequency')\n",
    "plt.tight_layout()\n",
    "plt.show()\n"
   ]
  },
  {
   "cell_type": "code",
   "execution_count": 35,
   "metadata": {},
   "outputs": [],
   "source": [
    "# Filtered Cell Line Count\n",
    "filt_column_count_df = column_count_df[column_count_df['Count'] >= 100]"
   ]
  },
  {
   "cell_type": "code",
   "execution_count": 36,
   "metadata": {},
   "outputs": [
    {
     "data": {
      "text/plain": [
       "23439    AC010889.2 (105377224)\n",
       "22576             CDKN2A (1029)\n",
       "23407    AC091806.1 (101927476)\n",
       "23406    AF241728.2 (105373174)\n",
       "23405    AL606516.1 (101928627)\n",
       "23401    AC074035.1 (101928201)\n",
       "23408    AF196972.1 (101927635)\n",
       "23409       USP27X-AS1 (158572)\n",
       "23410    AC231759.2 (105377209)\n",
       "23404           CXorf21 (80231)\n",
       "23402      Z93022.1 (101928389)\n",
       "23403    AL732509.1 (101928415)\n",
       "22578             CDKN2B (1030)\n",
       "23411           FAM104B (90736)\n",
       "23412     MTRNR2L10 (100463488)\n",
       "22577    CDKN2B-AS1 (100048912)\n",
       "23414    AL139398.1 (105373244)\n",
       "7518       MIR1268A (100302233)\n",
       "23413           FAM155B (27112)\n",
       "23415    BX276092.9 (101059915)\n",
       "23423     LINC01402 (104797536)\n",
       "23424    AL513487.1 (101928359)\n",
       "23421    AC004835.1 (101928336)\n",
       "23422           CXorf56 (63932)\n",
       "7517           CHEK2P2 (646096)\n",
       "23416      Z70719.1 (105373299)\n",
       "23419         AL035425.2 (8471)\n",
       "23417            BHLHB9 (80823)\n",
       "23426    AL445072.1 (101928495)\n",
       "23420            TDGF1P3 (6998)\n",
       "23425    AL121601.1 (101928402)\n",
       "23418    AL109946.1 (101928335)\n",
       "23427          FAM122B (159090)\n",
       "23428          FAM122C (159091)\n",
       "23429    AL450472.1 (100506790)\n",
       "23431    FO393408.1 (105373343)\n",
       "23430       AL589987.2 (728660)\n",
       "23432       AC235097.1 (645188)\n",
       "22575               MTAP (4507)\n",
       "23433    AL589669.1 (105373347)\n",
       "23434    AF274853.1 (107985693)\n",
       "23435    BX546450.1 (105377213)\n",
       "23437    AF274858.1 (105373383)\n",
       "23436    AC236972.3 (105373373)\n",
       "23438                TAZ (6901)\n",
       "8796         LINC01566 (283914)\n",
       "22579            DMRTA1 (63951)\n",
       "22580        LINC01239 (441389)\n",
       "7120             ACOT1 (641371)\n",
       "22574            MIR31 (407035)\n",
       "Name: Gene, dtype: object"
      ]
     },
     "execution_count": 36,
     "metadata": {},
     "output_type": "execute_result"
    }
   ],
   "source": [
    "# Choose top 50 gene\n",
    "filtered_genes = column_count_df['Gene'].head(50)\n",
    "filtered_genes"
   ]
  },
  {
   "cell_type": "code",
   "execution_count": 90,
   "metadata": {},
   "outputs": [],
   "source": [
    "# Remove na value by intersected index\n",
    "filtered_copy_number = filt_copy_number[filtered_genes]\n",
    "#filtered_copy_number = filtered_copy_number.dropna()\n",
    "\n",
    "#common_index = gene_effect.index.intersection(filtered_copy_number.index)\n",
    "\n",
    "\n",
    "#filt_gene_effect = gene_effect.loc[common_index]\n"
   ]
  },
  {
   "cell_type": "code",
   "execution_count": 96,
   "metadata": {},
   "outputs": [],
   "source": [
    "from scipy.stats import pearsonr\n",
    "\n",
    "# Initialize dictionary to store results with correlation > 0.3 and p-value < 0.05\n",
    "filtered_correlation_results = {}\n",
    "\n",
    "for copy_col in filtered_copy_number.columns:\n",
    "    filtered_correlation_results[copy_col] = {}\n",
    "    \n",
    "    for effect_col in gene_effect.columns:\n",
    "        valid_data = pd.concat([gene_effect[effect_col], filtered_copy_number[copy_col]], axis=1)\n",
    "        valid_data = valid_data.dropna()  # Remove NaN values\n",
    "        \n",
    "        if len(valid_data) > 1:\n",
    "            # Calculate correlation and p-value\n",
    "            cell_line_count = len(valid_data)\n",
    "            corr_val, p_val = pearsonr(valid_data.iloc[:, 0], valid_data.iloc[:, 1])\n",
    "            \n",
    "            # Filter based on conditions\n",
    "            if corr_val >= 0.3 and p_val < 0.05:\n",
    "                filtered_correlation_results[copy_col][effect_col] = {'correlation': corr_val, 'p_value': p_val, 'cell_line': cell_line_count}\n",
    "\n",
    "# Convert to DataFrame for better visualization\n",
    "filtered_correlation_df = pd.DataFrame(filtered_correlation_results)"
   ]
  },
  {
   "cell_type": "code",
   "execution_count": 98,
   "metadata": {},
   "outputs": [],
   "source": [
    "# Target Gene filtering\n",
    "target_gene = ['BCORP1 (286554)', 'KDM5D (8284)', 'CDKN2A (1029)', 'KDM6A (7403)', 'ASMTL (8623)', 'CSF2RA (1438)', 'SLC25A6 (293)', 'IL3RA (3563)', 'ASMT (438)'\n",
    "                ,'P2RY8 (286530)', 'AKAP17A (8227)', 'LINC00106 (751580)', 'CRLF2 (64109)', 'PLCXD1 (55344)', 'GTPBP6 (8225)', 'PPP2R3B (28227)', 'CYBB (1536)',\n",
    "                'DYNLT3 (6990)', 'CASK (8573)']\n",
    "\n",
    "target_correlation_df = filtered_correlation_df[target_gene]\n",
    "target_correlation_df.to_excel('target_correlation_df.xlsx')"
   ]
  }
 ],
 "metadata": {
  "kernelspec": {
   "display_name": "deep",
   "language": "python",
   "name": "python3"
  },
  "language_info": {
   "codemirror_mode": {
    "name": "ipython",
    "version": 3
   },
   "file_extension": ".py",
   "mimetype": "text/x-python",
   "name": "python",
   "nbconvert_exporter": "python",
   "pygments_lexer": "ipython3",
   "version": "3.9.20"
  }
 },
 "nbformat": 4,
 "nbformat_minor": 2
}
